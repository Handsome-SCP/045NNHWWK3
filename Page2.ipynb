{
  "nbformat": 4,
  "nbformat_minor": 0,
  "metadata": {
    "colab": {
      "provenance": []
    },
    "kernelspec": {
      "name": "python3",
      "display_name": "Python 3"
    },
    "language_info": {
      "name": "python"
    }
  },
  "cells": [
    {
      "cell_type": "code",
      "execution_count": null,
      "metadata": {
        "id": "LKTtvc2-d9X8"
      },
      "outputs": [],
      "source": [
        "import pandas as pd\n",
        "import numpy as np\n",
        "from sklearn.preprocessing import StandardScaler\n"
      ]
    },
    {
      "cell_type": "code",
      "source": [
        "data = pd.read_csv('Mall_Customers.csv')"
      ],
      "metadata": {
        "id": "2MjfBctdfBT6"
      },
      "execution_count": null,
      "outputs": []
    },
    {
      "cell_type": "code",
      "source": [
        "data['Age'].fillna(data['Age'].mean(), inplace=True)\n",
        "data['Income'].fillna(data['Income'].median(), inplace=True)"
      ],
      "metadata": {
        "id": "QVlpAJMSfG8R"
      },
      "execution_count": null,
      "outputs": []
    },
    {
      "cell_type": "code",
      "source": [
        "data.drop_duplicates(inplace=True)"
      ],
      "metadata": {
        "id": "tEzCkjW3fjPI"
      },
      "execution_count": null,
      "outputs": []
    },
    {
      "cell_type": "code",
      "source": [
        "data = pd.get_dummies(data, columns=['Genre','Spending_Score'])"
      ],
      "metadata": {
        "id": "ow0yejs-fmn4"
      },
      "execution_count": null,
      "outputs": []
    },
    {
      "cell_type": "code",
      "source": [
        "scaler = StandardScaler()\n",
        "mumerical_features = ['Age', 'Income']\n",
        "data[mumerical_features] = scaler.fit_transform(data[mumerical_features])\n",
        "\n",
        "print(data.head())\n",
        "print(data.info())"
      ],
      "metadata": {
        "id": "33JiDtjff3VA",
        "colab": {
          "base_uri": "https://localhost:8080/"
        },
        "outputId": "4e1d2454-1f3a-4614-8cb7-6ade2ef7c83a"
      },
      "execution_count": null,
      "outputs": [
        {
          "output_type": "stream",
          "name": "stdout",
          "text": [
            "   CustomerID       Age    Income  Genre_Female  Genre_Male  Spending_Score_1  \\\n",
            "0           1 -1.424569 -1.738999         False        True             False   \n",
            "1           2 -1.281035 -1.738999         False        True             False   \n",
            "2           3 -1.352802 -1.700830          True       False             False   \n",
            "3           4 -1.137502 -1.700830          True       False             False   \n",
            "4           5 -0.563369 -1.662660          True       False             False   \n",
            "\n",
            "   Spending_Score_3  Spending_Score_4  Spending_Score_5  Spending_Score_6  \\\n",
            "0             False             False             False             False   \n",
            "1             False             False             False             False   \n",
            "2             False             False             False              True   \n",
            "3             False             False             False             False   \n",
            "4             False             False             False             False   \n",
            "\n",
            "   ...  Spending_Score_89  Spending_Score_90  Spending_Score_91  \\\n",
            "0  ...              False              False              False   \n",
            "1  ...              False              False              False   \n",
            "2  ...              False              False              False   \n",
            "3  ...              False              False              False   \n",
            "4  ...              False              False              False   \n",
            "\n",
            "   Spending_Score_92  Spending_Score_93  Spending_Score_94  Spending_Score_95  \\\n",
            "0              False              False              False              False   \n",
            "1              False              False              False              False   \n",
            "2              False              False              False              False   \n",
            "3              False              False              False              False   \n",
            "4              False              False              False              False   \n",
            "\n",
            "   Spending_Score_97  Spending_Score_98  Spending_Score_99  \n",
            "0              False              False              False  \n",
            "1              False              False              False  \n",
            "2              False              False              False  \n",
            "3              False              False              False  \n",
            "4              False              False              False  \n",
            "\n",
            "[5 rows x 89 columns]\n",
            "<class 'pandas.core.frame.DataFrame'>\n",
            "RangeIndex: 200 entries, 0 to 199\n",
            "Data columns (total 89 columns):\n",
            " #   Column             Non-Null Count  Dtype  \n",
            "---  ------             --------------  -----  \n",
            " 0   CustomerID         200 non-null    int64  \n",
            " 1   Age                200 non-null    float64\n",
            " 2   Income             200 non-null    float64\n",
            " 3   Genre_Female       200 non-null    bool   \n",
            " 4   Genre_Male         200 non-null    bool   \n",
            " 5   Spending_Score_1   200 non-null    bool   \n",
            " 6   Spending_Score_3   200 non-null    bool   \n",
            " 7   Spending_Score_4   200 non-null    bool   \n",
            " 8   Spending_Score_5   200 non-null    bool   \n",
            " 9   Spending_Score_6   200 non-null    bool   \n",
            " 10  Spending_Score_7   200 non-null    bool   \n",
            " 11  Spending_Score_8   200 non-null    bool   \n",
            " 12  Spending_Score_9   200 non-null    bool   \n",
            " 13  Spending_Score_10  200 non-null    bool   \n",
            " 14  Spending_Score_11  200 non-null    bool   \n",
            " 15  Spending_Score_12  200 non-null    bool   \n",
            " 16  Spending_Score_13  200 non-null    bool   \n",
            " 17  Spending_Score_14  200 non-null    bool   \n",
            " 18  Spending_Score_15  200 non-null    bool   \n",
            " 19  Spending_Score_16  200 non-null    bool   \n",
            " 20  Spending_Score_17  200 non-null    bool   \n",
            " 21  Spending_Score_18  200 non-null    bool   \n",
            " 22  Spending_Score_20  200 non-null    bool   \n",
            " 23  Spending_Score_22  200 non-null    bool   \n",
            " 24  Spending_Score_23  200 non-null    bool   \n",
            " 25  Spending_Score_24  200 non-null    bool   \n",
            " 26  Spending_Score_26  200 non-null    bool   \n",
            " 27  Spending_Score_27  200 non-null    bool   \n",
            " 28  Spending_Score_28  200 non-null    bool   \n",
            " 29  Spending_Score_29  200 non-null    bool   \n",
            " 30  Spending_Score_31  200 non-null    bool   \n",
            " 31  Spending_Score_32  200 non-null    bool   \n",
            " 32  Spending_Score_34  200 non-null    bool   \n",
            " 33  Spending_Score_35  200 non-null    bool   \n",
            " 34  Spending_Score_36  200 non-null    bool   \n",
            " 35  Spending_Score_39  200 non-null    bool   \n",
            " 36  Spending_Score_40  200 non-null    bool   \n",
            " 37  Spending_Score_41  200 non-null    bool   \n",
            " 38  Spending_Score_42  200 non-null    bool   \n",
            " 39  Spending_Score_43  200 non-null    bool   \n",
            " 40  Spending_Score_44  200 non-null    bool   \n",
            " 41  Spending_Score_45  200 non-null    bool   \n",
            " 42  Spending_Score_46  200 non-null    bool   \n",
            " 43  Spending_Score_47  200 non-null    bool   \n",
            " 44  Spending_Score_48  200 non-null    bool   \n",
            " 45  Spending_Score_49  200 non-null    bool   \n",
            " 46  Spending_Score_50  200 non-null    bool   \n",
            " 47  Spending_Score_51  200 non-null    bool   \n",
            " 48  Spending_Score_52  200 non-null    bool   \n",
            " 49  Spending_Score_53  200 non-null    bool   \n",
            " 50  Spending_Score_54  200 non-null    bool   \n",
            " 51  Spending_Score_55  200 non-null    bool   \n",
            " 52  Spending_Score_56  200 non-null    bool   \n",
            " 53  Spending_Score_57  200 non-null    bool   \n",
            " 54  Spending_Score_58  200 non-null    bool   \n",
            " 55  Spending_Score_59  200 non-null    bool   \n",
            " 56  Spending_Score_60  200 non-null    bool   \n",
            " 57  Spending_Score_61  200 non-null    bool   \n",
            " 58  Spending_Score_63  200 non-null    bool   \n",
            " 59  Spending_Score_65  200 non-null    bool   \n",
            " 60  Spending_Score_66  200 non-null    bool   \n",
            " 61  Spending_Score_68  200 non-null    bool   \n",
            " 62  Spending_Score_69  200 non-null    bool   \n",
            " 63  Spending_Score_71  200 non-null    bool   \n",
            " 64  Spending_Score_72  200 non-null    bool   \n",
            " 65  Spending_Score_73  200 non-null    bool   \n",
            " 66  Spending_Score_74  200 non-null    bool   \n",
            " 67  Spending_Score_75  200 non-null    bool   \n",
            " 68  Spending_Score_76  200 non-null    bool   \n",
            " 69  Spending_Score_77  200 non-null    bool   \n",
            " 70  Spending_Score_78  200 non-null    bool   \n",
            " 71  Spending_Score_79  200 non-null    bool   \n",
            " 72  Spending_Score_81  200 non-null    bool   \n",
            " 73  Spending_Score_82  200 non-null    bool   \n",
            " 74  Spending_Score_83  200 non-null    bool   \n",
            " 75  Spending_Score_85  200 non-null    bool   \n",
            " 76  Spending_Score_86  200 non-null    bool   \n",
            " 77  Spending_Score_87  200 non-null    bool   \n",
            " 78  Spending_Score_88  200 non-null    bool   \n",
            " 79  Spending_Score_89  200 non-null    bool   \n",
            " 80  Spending_Score_90  200 non-null    bool   \n",
            " 81  Spending_Score_91  200 non-null    bool   \n",
            " 82  Spending_Score_92  200 non-null    bool   \n",
            " 83  Spending_Score_93  200 non-null    bool   \n",
            " 84  Spending_Score_94  200 non-null    bool   \n",
            " 85  Spending_Score_95  200 non-null    bool   \n",
            " 86  Spending_Score_97  200 non-null    bool   \n",
            " 87  Spending_Score_98  200 non-null    bool   \n",
            " 88  Spending_Score_99  200 non-null    bool   \n",
            "dtypes: bool(86), float64(2), int64(1)\n",
            "memory usage: 21.6 KB\n",
            "None\n"
          ]
        }
      ]
    }
  ]
}