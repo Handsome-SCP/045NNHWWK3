{
  "nbformat": 4,
  "nbformat_minor": 0,
  "metadata": {
    "colab": {
      "provenance": []
    },
    "kernelspec": {
      "name": "python3",
      "display_name": "Python 3"
    },
    "language_info": {
      "name": "python"
    }
  },
  "cells": [
    {
      "cell_type": "code",
      "execution_count": null,
      "metadata": {
        "id": "GUxUAaTVgOVh"
      },
      "outputs": [],
      "source": [
        "import pandas as pd\n",
        "from sklearn.feature_selection import SelectKBest,  f_regression\n",
        "from sklearn.preprocessing import PolynomialFeatures"
      ]
    },
    {
      "cell_type": "code",
      "source": [
        "data = pd.read_csv('PreProcessData.csv')\n",
        "x = data.drop(['reading score'], axis=1)\n",
        "y = data['reading score']"
      ],
      "metadata": {
        "id": "sRWFsU09gx5r"
      },
      "execution_count": null,
      "outputs": []
    },
    {
      "cell_type": "code",
      "source": [
        "print(data.columns)"
      ],
      "metadata": {
        "colab": {
          "base_uri": "https://localhost:8080/"
        },
        "id": "vV_h4wy35tTU",
        "outputId": "adb776f6-54c8-4e40-aea9-8d2cc4dd4d2b"
      },
      "execution_count": null,
      "outputs": [
        {
          "output_type": "stream",
          "name": "stdout",
          "text": [
            "Index(['adminyear', 'DistrictNumber', 'DistrictName', 'SchoolNumber',\n",
            "       'SchoolName', 'date', 'sasid', 'reading score', 'writing score'],\n",
            "      dtype='object')\n"
          ]
        }
      ]
    },
    {
      "cell_type": "code",
      "source": [
        "data = data[pd.to_numeric(data['SchoolName'], errors='coerce').notna()]"
      ],
      "metadata": {
        "id": "If48cy-r7N0e"
      },
      "execution_count": null,
      "outputs": []
    },
    {
      "cell_type": "code",
      "source": [
        "x = x.drop(['DistrictName'], axis=1)\n",
        "x = x.drop(['date'], axis=1)"
      ],
      "metadata": {
        "id": "sPdi89_T73GS"
      },
      "execution_count": null,
      "outputs": []
    },
    {
      "cell_type": "code",
      "source": [
        "grand_bend_mask = data.apply(lambda col: col.astype(str).str.contains('Grand Bend ISD')).any(axis=1)\n",
        "if grand_bend_mask.any():\n",
        "  print(\"พบ 'Grand Bend ISD' ในข้อมูล\")\n",
        "else:\n",
        "  print(\"ไม่พบ 'Grand Bend ISD' ในข้อมูล\")\n"
      ],
      "metadata": {
        "colab": {
          "base_uri": "https://localhost:8080/"
        },
        "id": "-Tz5Tuyn8bmB",
        "outputId": "02f0bcad-22da-47d5-803f-565f4488ea8f"
      },
      "execution_count": null,
      "outputs": [
        {
          "output_type": "stream",
          "name": "stdout",
          "text": [
            "ไม่พบ 'Grand Bend ISD' ในข้อมูล\n"
          ]
        }
      ]
    },
    {
      "cell_type": "code",
      "source": [
        "x.info()"
      ],
      "metadata": {
        "colab": {
          "base_uri": "https://localhost:8080/"
        },
        "id": "zEQeZX3F8uLD",
        "outputId": "3ccdd1b5-39d8-4acd-9a93-57b9bf7b75f6"
      },
      "execution_count": null,
      "outputs": [
        {
          "output_type": "stream",
          "name": "stdout",
          "text": [
            "<class 'pandas.core.frame.DataFrame'>\n",
            "RangeIndex: 10 entries, 0 to 9\n",
            "Data columns (total 5 columns):\n",
            " #   Column          Non-Null Count  Dtype\n",
            "---  ------          --------------  -----\n",
            " 0   adminyear       10 non-null     int64\n",
            " 1   DistrictNumber  10 non-null     int64\n",
            " 2   SchoolNumber    10 non-null     int64\n",
            " 3   sasid           10 non-null     int64\n",
            " 4   writing score   10 non-null     int64\n",
            "dtypes: int64(5)\n",
            "memory usage: 528.0 bytes\n"
          ]
        }
      ]
    },
    {
      "cell_type": "code",
      "source": [
        "correlation = x.corr()['writing score'].abs().sort_values(ascending=False)\n",
        "selected_features = correlation[correlation > 0.5].index.tolist()"
      ],
      "metadata": {
        "id": "NhizjGceg5xY"
      },
      "execution_count": null,
      "outputs": []
    },
    {
      "cell_type": "code",
      "source": [
        "poly = PolynomialFeatures(degree=2, include_bias=False)\n",
        "x_poly = poly.fit_transform(x[selected_features])"
      ],
      "metadata": {
        "id": "F17S-pAfhTl6"
      },
      "execution_count": null,
      "outputs": []
    },
    {
      "cell_type": "code",
      "source": [
        "selector = SelectKBest(score_func=f_regression, k=10)\n",
        "X_selected = selector.fit_transform(x_poly, y)\n",
        "\n",
        "print(\"Selected Features:\", x.columns[selector.get_support().tolist()])\n",
        "print(\"Shape of selected feature:\", x)"
      ],
      "metadata": {
        "id": "DEzW6nwJhh4a",
        "colab": {
          "base_uri": "https://localhost:8080/"
        },
        "outputId": "a9401b03-870d-4626-d9d4-c959e8f2c98f"
      },
      "execution_count": null,
      "outputs": [
        {
          "output_type": "stream",
          "name": "stdout",
          "text": [
            "Selected Features: Index(['adminyear', 'DistrictNumber', 'SchoolNumber', 'sasid',\n",
            "       'writing score'],\n",
            "      dtype='object')\n",
            "Shape of selected feature:    adminyear  DistrictNumber  SchoolNumber    sasid  writing score\n",
            "0       2018          255901     255901107  5001234            246\n",
            "1       2018          255901     255901107  5001237            100\n",
            "2       2018          255901     255901107  5001240            202\n",
            "3       2018          255901     255901107  5001243            263\n",
            "4       2018          255901     255901107  5001246            277\n",
            "5       2018          255901     255901107  5001249            251\n",
            "6       2018          255901     255901107  5001252            242\n",
            "7       2018          255901     255901107  5001255            926\n",
            "8       2018          255901     255901107  5001258            930\n",
            "9       2018          255901     255901107  5001261            916\n"
          ]
        },
        {
          "output_type": "stream",
          "name": "stderr",
          "text": [
            "/usr/local/lib/python3.10/dist-packages/sklearn/feature_selection/_univariate_selection.py:776: UserWarning: k=10 is greater than n_features=5. All the features will be returned.\n",
            "  warnings.warn(\n"
          ]
        }
      ]
    },
    {
      "cell_type": "code",
      "source": [
        "print(\"Selected Features:\", x.columns[selector.get_support().tolist()])\n",
        "print(\"Shape of selected feature:\", X_selected.shape)\n"
      ],
      "metadata": {
        "id": "W43xMD-lL5kU",
        "colab": {
          "base_uri": "https://localhost:8080/"
        },
        "outputId": "71326933-dbdf-41e4-ff9d-996668b269e9"
      },
      "execution_count": null,
      "outputs": [
        {
          "output_type": "stream",
          "name": "stdout",
          "text": [
            "Selected Features: Index(['adminyear', 'DistrictNumber', 'SchoolNumber', 'sasid',\n",
            "       'writing score'],\n",
            "      dtype='object')\n",
            "Shape of selected feature: (10, 5)\n"
          ]
        }
      ]
    }
  ]
}